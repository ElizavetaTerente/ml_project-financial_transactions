{
 "cells": [
  {
   "cell_type": "code",
   "execution_count": 1,
   "id": "465da3b6",
   "metadata": {},
   "outputs": [],
   "source": [
    "import pandas as pd\n",
    "import numpy as np\n",
    "import os\n",
    "from sklearn.metrics import roc_auc_score\n",
    "import pathlib\n",
    "import joblib\n",
    "from scipy import stats"
   ]
  },
  {
   "cell_type": "code",
   "execution_count": 2,
   "id": "bd7295f9",
   "metadata": {},
   "outputs": [
    {
     "name": "stdout",
     "output_type": "stream",
     "text": [
      "(227845, 31)\n",
      "# frauded transactions: 394\n",
      "# normal transactions: 227451\n"
     ]
    }
   ],
   "source": [
    "path = \"/data/mlproject22\" if os.path.exists(\"/data/mlproject22\") else \".\"\n",
    "train_data = pd.read_csv(os.path.join(path, \"transactions.csv.zip\"))\n",
    "print(train_data.shape)\n",
    "X_train = train_data.drop(columns = \"Class\")\n",
    "y_train = train_data[\"Class\"]\n",
    "\n",
    "class_1_count = np.count_nonzero(y_train == 1)\n",
    "print(\"# frauded transactions:\", class_1_count)\n",
    "\n",
    "class_0_count = np.count_nonzero(y_train == 0)\n",
    "print(\"# normal transactions:\", class_0_count)"
   ]
  },
  {
   "cell_type": "code",
   "execution_count": 3,
   "id": "8a9ac1c6",
   "metadata": {},
   "outputs": [],
   "source": [
    "from sklearn.preprocessing import StandardScaler\n",
    "\n",
    "# Step 2: Feature scaling\n",
    "scaler = StandardScaler()\n",
    "X_train_scaled = scaler.fit_transform(X_train)\n",
    "\n",
    "# Create a new DataFrame with scaled features\n",
    "df_train_scaled = pd.DataFrame(X_train_scaled, columns=X_train.columns)\n",
    "\n",
    "# Append the target variable back to the scaled DataFrame\n",
    "df_train_scaled['Class'] = y_train\n",
    "\n",
    "# Display the scaled DataFrame\n",
    "#print(df_train_scaled.head())"
   ]
  },
  {
   "cell_type": "code",
   "execution_count": 4,
   "id": "323bd600",
   "metadata": {},
   "outputs": [],
   "source": [
    "def remove_outliers(data_set, outlier_class , z_score):\n",
    "    \n",
    "    print(\"removing outliners with class == \" , outlier_class);\n",
    "    \n",
    "    print(\"Size before: \", data_set.shape[0])\n",
    "    print(\"class\" , int(not outlier_class), \"samples before: \", (data_set['Class'] == int(not outlier_class)).sum())\n",
    "\n",
    "    data_set_only_0 = data_set[data_set[\"Class\"] == outlier_class]\n",
    "    data_set_only_1 = data_set[data_set[\"Class\"] == int(not outlier_class)]\n",
    "\n",
    "    z_scores = stats.zscore(data_set_only_0.iloc[:, :-1])\n",
    "    abs_z_scores = np.abs(z_scores)\n",
    "    filtered_entries = (abs_z_scores < z_score).all(axis=1)\n",
    "    data_set_outlier_removed_only_0 = data_set_only_0[filtered_entries]\n",
    "\n",
    "    df_outlier_removed = pd.concat([data_set_outlier_removed_only_0, data_set_only_1], axis=0)\n",
    "\n",
    "    print(\"Size after: \", df_outlier_removed.shape[0])\n",
    "    print(\"class\" ,int(not outlier_class), \"samples after: \", (df_outlier_removed['Class'] ==  int(not outlier_class)).sum())\n",
    "    print(data_set.shape[0] - df_outlier_removed.shape[0], \"outliers removed\")\n",
    "    print(\"done\")\n",
    "\n",
    "    return df_outlier_removed\n"
   ]
  },
  {
   "cell_type": "code",
   "execution_count": 5,
   "id": "9e1f5e90",
   "metadata": {},
   "outputs": [
    {
     "name": "stdout",
     "output_type": "stream",
     "text": [
      "removing outliners with class ==  0\n",
      "Size before:  227845\n",
      "class 1 samples before:  394\n",
      "Size after:  195452\n",
      "class 1 samples after:  394\n",
      "32393 outliers removed\n",
      "done\n",
      "removing outliners with class ==  1\n",
      "Size before:  195452\n",
      "class 0 samples before:  195058\n",
      "Size after:  195412\n",
      "class 0 samples after:  195058\n",
      "40 outliers removed\n",
      "done\n"
     ]
    }
   ],
   "source": [
    "df_outlier_removed = remove_outliers(df_train_scaled,0,3)\n",
    "df_outlier_removed = remove_outliers(df_outlier_removed,1,3)"
   ]
  },
  {
   "cell_type": "code",
   "execution_count": 6,
   "id": "e32206fc",
   "metadata": {},
   "outputs": [],
   "source": [
    "X_train = df_outlier_removed.drop(columns = \"Class\")\n",
    "y_train = df_outlier_removed[\"Class\"]"
   ]
  },
  {
   "cell_type": "code",
   "execution_count": 9,
   "id": "af89aa1f",
   "metadata": {},
   "outputs": [
    {
     "name": "stdout",
     "output_type": "stream",
     "text": [
      "Time: 0.002917970917369483\n",
      "Feature0: 0.010007272094144346\n",
      "Feature1: 0.005975419613678732\n",
      "Feature2: 0.04740941097731151\n",
      "Feature3: 0.03134666154390041\n",
      "Feature4: 0.007371883307895776\n",
      "Feature5: 0.005400655759044141\n",
      "Feature6: 0.025759645199792375\n",
      "Feature7: 0.007068209593695225\n",
      "Feature8: 0.01006769016707549\n",
      "Feature9: 0.09462181293926329\n",
      "Feature10: 0.05660045618558309\n",
      "Feature11: 0.19312451156615312\n",
      "Feature12: 0.005181542361579083\n",
      "Feature13: 0.22036945798158356\n",
      "Feature14: 0.005273582605815503\n",
      "Feature15: 0.07156319999645726\n",
      "Feature16: 0.1194127245625817\n",
      "Feature17: 0.02552940050375568\n",
      "Feature18: 0.010426929007951644\n",
      "Feature19: 0.005200054325711359\n",
      "Feature20: 0.006554817840250751\n",
      "Feature21: 0.0038784562327363508\n",
      "Feature22: 0.0034759572751025753\n",
      "Feature23: 0.00331783154716939\n",
      "Feature24: 0.004253551560216326\n",
      "Feature25: 0.0033509339798058536\n",
      "Feature26: 0.007005994065185816\n",
      "Feature27: 0.00310271269594592\n",
      "Amount: 0.004431253593243974\n",
      "Index(['Feature13'], dtype='object')\n"
     ]
    }
   ],
   "source": [
    "# 4 : Feature selection\n",
    "\n",
    "#choosing best features\n",
    "\n",
    "from sklearn.ensemble import RandomForestClassifier\n",
    "import pandas as pd\n",
    "\n",
    "random_state=42\n",
    "\n",
    "# Create a random forest classifier\n",
    "rf = RandomForestClassifier()#class_weight={0: 0.2, 1: 0.8})\n",
    "\n",
    "# Fit the classifier on the data\n",
    "rf.fit(X_train, y_train)\n",
    "\n",
    "# Get the feature importances\n",
    "feature_importances = rf.feature_importances_\n",
    "\n",
    "# Print feature importance scores\n",
    "for i, feature in enumerate(X_train.columns):\n",
    "    print(f\"{feature}: {feature_importances[i]}\")\n",
    "\n",
    "# Get the indice of top feature\n",
    "top_indice = feature_importances.argsort()[-1:]\n",
    "# Get the names of the top feature\n",
    "top_feature = X_train.columns[top_indice]\n",
    "# Print the feature names\n",
    "print(top_feature)"
   ]
  },
  {
   "cell_type": "code",
   "execution_count": 11,
   "id": "3b7d7cfc",
   "metadata": {},
   "outputs": [
    {
     "data": {
      "image/png": "[encoded data removed]",
      "text/plain": [
       "<Figure size 720x576 with 1 Axes>"
      ]
     },
     "metadata": {
      "needs_background": "light"
     },
     "output_type": "display_data"
    }
   ],
   "source": [
    "import matplotlib.pyplot as plt\n",
    "\n",
    "# Create a figure and axis with a larger size\n",
    "fig, ax = plt.subplots(figsize=(10, 8))  # Adjust the size as needed\n",
    "\n",
    "# Plot the feature importance scores\n",
    "ax.barh(X_train.columns, feature_importances)\n",
    "\n",
    "# Set the axis labels and title\n",
    "ax.set_xlabel('Feature Importance')\n",
    "ax.set_ylabel('Features')\n",
    "ax.set_title('Feature Importance Scores')\n",
    "\n",
    "# Show the plot\n",
    "plt.show()"
   ]
  },
  {
   "cell_type": "code",
   "execution_count": 12,
   "id": "e9d5d826",
   "metadata": {},
   "outputs": [],
   "source": [
    "X_train_selected_features = X_train[top_feature]"
   ]
  },
  {
   "cell_type": "code",
   "execution_count": 13,
   "id": "8f3e920a",
   "metadata": {},
   "outputs": [],
   "source": [
    "from sklearn.model_selection import train_test_split\n",
    "\n",
    "# Split into train and test sets\n",
    "random_seed = 100 # Use an integer to have repeatable results\n",
    "X_train_my, X_test_my, y_train_my, y_test_my = train_test_split(X_train_selected_features, y_train, test_size=0.3, random_state=random_seed)"
   ]
  },
  {
   "cell_type": "code",
   "execution_count": 14,
   "id": "ba753036",
   "metadata": {},
   "outputs": [
    {
     "name": "stdout",
     "output_type": "stream",
     "text": [
      "Number of samples with Class 1: 117\n",
      "Number of samples with Class 0: 58507\n",
      "Accuracy: 0.9997100163755459\n",
      "Confusion Matrix:\n",
      "[[58507     0]\n",
      " [   17   100]]\n",
      "Precision: 1.0\n",
      "Recall: 0.8547008547008547\n",
      "F1-Score: 0.9216589861751151\n"
     ]
    },
    {
     "data": {
      "image/png": "[encoded data removed]",
      "text/plain": [
       "<Figure size 432x288 with 1 Axes>"
      ]
     },
     "metadata": {
      "needs_background": "light"
     },
     "output_type": "display_data"
    },
    {
     "name": "stdout",
     "output_type": "stream",
     "text": [
      "AUC-ROC: 0.9641381212475268\n"
     ]
    }
   ],
   "source": [
    "from sklearn.naive_bayes import GaussianNB\n",
    "from sklearn.metrics import accuracy_score\n",
    "from sklearn.metrics import confusion_matrix\n",
    "from sklearn.metrics import classification_report\n",
    "from sklearn.metrics import accuracy_score, precision_score, recall_score, f1_score, roc_curve, roc_auc_score\n",
    "import matplotlib.pyplot as plt\n",
    "\n",
    "# create classifier\n",
    "clf = GaussianNB()\n",
    "# Assign the class weights to the classifier\n",
    "# fit it to training data\n",
    "clf.fit(X_train_my,y_train_my)\n",
    "# predict using test data\n",
    "y_pred = clf.predict(X_test_my)\n",
    "# Compute predicted probabilities: y_pred_prob\n",
    "y_pred_prob = clf.predict_proba(X_test_my)\n",
    "\n",
    "class_1_count = np.count_nonzero(y_test_my == 1)\n",
    "print(\"Number of samples with Class 1:\", class_1_count)\n",
    "\n",
    "class_0_count = np.count_nonzero(y_test_my == 0)\n",
    "print(\"Number of samples with Class 0:\", class_0_count)\n",
    "\n",
    "accuracy = accuracy_score(y_test_my, y_pred)\n",
    "print(\"Accuracy:\", accuracy)\n",
    "\n",
    "cm = confusion_matrix(y_test_my, y_pred)\n",
    "print(\"Confusion Matrix:\")\n",
    "print(cm)\n",
    "\n",
    "precision = precision_score(y_test_my, y_pred)\n",
    "print(\"Precision:\", precision)\n",
    "\n",
    "recall = recall_score(y_test_my, y_pred)\n",
    "print(\"Recall:\", recall)\n",
    "\n",
    "f1 = f1_score(y_test_my, y_pred)\n",
    "print(\"F1-Score:\", f1)\n",
    "\n",
    "fpr, tpr, thresholds = roc_curve(y_test_my, y_pred_prob[:, 1]) # assuming binary classification\n",
    "plt.plot(fpr, tpr)\n",
    "plt.xlabel(\"False Positive Rate\")\n",
    "plt.ylabel(\"True Positive Rate\")\n",
    "plt.title(\"ROC Curve\")\n",
    "plt.show()\n",
    "\n",
    "auc = roc_auc_score(y_test_my, y_pred_prob[:, 1]) # assuming binary classification\n",
    "print(\"AUC-ROC:\", auc)"
   ]
  },
  {
   "cell_type": "code",
   "execution_count": 15,
   "id": "e3890345",
   "metadata": {},
   "outputs": [
    {
     "data": {
      "text/plain": [
       "['model.joblib']"
      ]
     },
     "execution_count": 15,
     "metadata": {},
     "output_type": "execute_result"
    }
   ],
   "source": [
    "model = (clf, top_feature)\n",
    "joblib.dump(model, \"model.joblib\")"
   ]
  },
  {
   "cell_type": "code",
   "execution_count": null,
   "id": "fa0fe3cd",
   "metadata": {},
   "outputs": [],
   "source": []
  }
 ],
 "metadata": {
  "kernelspec": {
   "display_name": "Python 3 (ipykernel)",
   "language": "python",
   "name": "python3"
  },
  "language_info": {
   "codemirror_mode": {
    "name": "ipython",
    "version": 3
   },
   "file_extension": ".py",
   "mimetype": "text/x-python",
   "name": "python",
   "nbconvert_exporter": "python",
   "pygments_lexer": "ipython3",
   "version": "3.9.12"
  },
  "toc": {
   "base_numbering": 1,
   "nav_menu": {},
   "number_sections": true,
   "sideBar": true,
   "skip_h1_title": false,
   "title_cell": "Table of Contents",
   "title_sidebar": "Contents",
   "toc_cell": false,
   "toc_position": {},
   "toc_section_display": true,
   "toc_window_display": false
  },
  "varInspector": {
   "cols": {
    "lenName": 16,
    "lenType": 16,
    "lenVar": 40
   },
   "kernels_config": {
    "python": {
     "delete_cmd_postfix": "",
     "delete_cmd_prefix": "del ",
     "library": "var_list.py",
     "varRefreshCmd": "print(var_dic_list())"
    },
    "r": {
     "delete_cmd_postfix": ") ",
     "delete_cmd_prefix": "rm(",
     "library": "var_list.r",
     "varRefreshCmd": "cat(var_dic_list()) "
    }
   },
   "types_to_exclude": [
    "module",
    "function",
    "builtin_function_or_method",
    "instance",
    "_Feature"
   ],
   "window_display": false
  }
 },
 "nbformat": 4,
 "nbformat_minor": 5
}
